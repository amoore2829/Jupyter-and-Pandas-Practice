{
 "cells": [
  {
   "cell_type": "code",
   "execution_count": 5,
   "id": "7e5e1f92",
   "metadata": {
    "scrolled": true
   },
   "outputs": [
    {
     "name": "stdout",
     "output_type": "stream",
     "text": [
      "Collecting pandas\n",
      "  Downloading pandas-1.5.3-cp310-cp310-win_amd64.whl (10.4 MB)\n",
      "     --------------------------------------- 10.4/10.4 MB 13.4 MB/s eta 0:00:00\n",
      "Requirement already satisfied: pytz>=2020.1 in c:\\users\\amoor\\appdata\\local\\programs\\python\\python310\\lib\\site-packages (from pandas) (2022.6)\n",
      "Requirement already satisfied: python-dateutil>=2.8.1 in c:\\users\\amoor\\appdata\\local\\programs\\python\\python310\\lib\\site-packages (from pandas) (2.8.2)\n",
      "Requirement already satisfied: numpy>=1.21.0 in c:\\users\\amoor\\appdata\\local\\programs\\python\\python310\\lib\\site-packages (from pandas) (1.23.3)\n",
      "Requirement already satisfied: six>=1.5 in c:\\users\\amoor\\appdata\\local\\programs\\python\\python310\\lib\\site-packages (from python-dateutil>=2.8.1->pandas) (1.16.0)\n",
      "Installing collected packages: pandas\n",
      "Successfully installed pandas-1.5.3\n"
     ]
    },
    {
     "name": "stderr",
     "output_type": "stream",
     "text": [
      "\n",
      "[notice] A new release of pip available: 22.3 -> 23.0\n",
      "[notice] To update, run: python.exe -m pip install --upgrade pip\n"
     ]
    }
   ],
   "source": [
    "!pip install pandas"
   ]
  },
  {
   "cell_type": "code",
   "execution_count": 1,
   "id": "219db995",
   "metadata": {},
   "outputs": [],
   "source": [
    "import pandas as pd"
   ]
  },
  {
   "cell_type": "code",
   "execution_count": 24,
   "id": "d034b1e8",
   "metadata": {},
   "outputs": [],
   "source": [
    "\n",
    "# tableau \n",
    "df = pd.DataFrame([[1, 2, 3], [2,3,4]], columns=[\"age\", \"gender\", \"name\"])"
   ]
  },
  {
   "cell_type": "code",
   "execution_count": 25,
   "id": "11f12d61",
   "metadata": {},
   "outputs": [],
   "source": [
    "df[\"c\"] = [5, 7]"
   ]
  },
  {
   "cell_type": "code",
   "execution_count": 29,
   "id": "b5a610ee",
   "metadata": {},
   "outputs": [],
   "source": [
    "a = [1, 3, 4, 5]"
   ]
  },
  {
   "cell_type": "code",
   "execution_count": 27,
   "id": "d53b135c",
   "metadata": {},
   "outputs": [],
   "source": [
    "def sumArray(array):\n",
    "    b = 0\n",
    "    for a in array:\n",
    "        b += a\n",
    "    return b\n",
    "        "
   ]
  },
  {
   "cell_type": "code",
   "execution_count": 30,
   "id": "c773c1e0",
   "metadata": {},
   "outputs": [
    {
     "data": {
      "text/plain": [
       "13"
      ]
     },
     "execution_count": 30,
     "metadata": {},
     "output_type": "execute_result"
    }
   ],
   "source": [
    "sumArray(a)"
   ]
  },
  {
   "cell_type": "code",
   "execution_count": null,
   "id": "b890dcc0",
   "metadata": {},
   "outputs": [],
   "source": [
    "# todo: understand how to use pandas\n",
    "# todo: map the swf data to pandas dataframe\n",
    "# todo: extract the first two features."
   ]
  }
 ],
 "metadata": {
  "kernelspec": {
   "display_name": "Python 3 (ipykernel)",
   "language": "python",
   "name": "python3"
  },
  "language_info": {
   "codemirror_mode": {
    "name": "ipython",
    "version": 3
   },
   "file_extension": ".py",
   "mimetype": "text/x-python",
   "name": "python",
   "nbconvert_exporter": "python",
   "pygments_lexer": "ipython3",
   "version": "3.10.6"
  }
 },
 "nbformat": 4,
 "nbformat_minor": 5
}
